{
 "cells": [
  {
   "cell_type": "code",
   "execution_count": 1,
   "metadata": {
    "pycharm": {
     "is_executing": false,
     "name": "#%%\n"
    }
   },
   "outputs": [],
   "source": [
    "# Imports\n",
    "import os\n",
    "import glob\n",
    "import json\n",
    "import numpy as np\n",
    "import h5py\n",
    "import keras\n",
    "from enum import Enum\n",
    "from keras.models import Model\n",
    "from keras.layers import Input, Conv2D, MaxPooling2D, UpSampling2D, concatenate, BatchNormalization, Dropout\n",
    "from keras.optimizers import Adam, RMSprop\n",
    "from keras import backend as K\n",
    "from random import randrange\n",
    "import random\n",
    "import math\n",
    "import pypianoroll\n",
    "from utils.midi_utils import play_midi, plot_pianoroll, get_music_metrics, process_pianoroll, process_midi\n",
    "from constants import Constants\n",
    "from augmentation import AddAndRemoveAPercentageOfNotes\n",
    "from data_generator import PianoRollGenerator\n",
    "from utils.generate_training_plots import GenerateTrainingPlots\n",
    "from inference import Inference\n",
    "from model import OptimizerType\n",
    "from model import ArCnnModel"
   ]
  },
  {
   "cell_type": "code",
   "execution_count": 5,
   "metadata": {},
   "outputs": [],
   "source": [
    "# Load The Inference-Related Parameters\n",
    "with open('inference_parameters.json') as json_file:\n",
    "    inference_params = json.load(json_file)"
   ]
  },
  {
   "cell_type": "code",
   "execution_count": 2,
   "metadata": {},
   "outputs": [
    {
     "name": "stdout",
     "output_type": "stream",
     "text": [
      "-rw-r--r-- 1 carniblood carniblood 377725952 Aug 17 03:16  checkpoints-best-model-epoch:0001.hdf5\r\n",
      "-rw-r--r-- 1 carniblood carniblood 377725952 Aug 17 07:14  checkpoints-best-model-epoch:0002.hdf5\r\n",
      "-rw-r--r-- 1 carniblood carniblood 377649216 Aug 17 23:17 'checkpoints-best-model-epoch 0017.hdf5'\r\n",
      "-rw-r--r-- 1 carniblood carniblood 377725424 Aug 18 02:12  best-model-epoch-1.hdf5\r\n",
      "-rw-r--r-- 1 carniblood carniblood 377725424 Aug 18 08:24  best-model-epoch-12.hdf5\r\n",
      "-rw-r--r-- 1 carniblood carniblood 377725424 Aug 18 18:53  best-model-epoch-15+.hdf5\r\n"
     ]
    }
   ],
   "source": [
    "!ls -ltr *.hdf5"
   ]
  },
  {
   "cell_type": "markdown",
   "metadata": {},
   "source": [
    "In the next code cell, replace the string in variable `checkpoint_var` with the filename, `checkpoints/foo-bar.hdf5` "
   ]
  },
  {
   "cell_type": "code",
   "execution_count": 3,
   "metadata": {},
   "outputs": [],
   "source": [
    "# Create An Inference Object\n",
    "inference_obj = Inference()\n",
    "# Load The Checkpoint\n",
    "checkpoint_var = 'best-model-epoch-15+.hdf5'\n",
    "inference_obj.load_model(checkpoint_var) "
   ]
  },
  {
   "cell_type": "code",
   "execution_count": 6,
   "metadata": {},
   "outputs": [],
   "source": [
    "# Generate The Composition\n",
    "input_melodies = []\n",
    "input_melodies.append('sample_inputs/merry_christmas.midi')\n",
    "input_melodies.append('sample_inputs/new_world.midi')\n",
    "input_melodies.append('sample_inputs/ode_to_joy.midi')\n",
    "input_melodies.append('sample_inputs/twinkle_twinkle.midi')\n",
    "for input_melody in input_melodies:\n",
    "    inference_obj.generate_composition(input_melody, inference_params)"
   ]
  },
  {
   "cell_type": "code",
   "execution_count": null,
   "metadata": {},
   "outputs": [],
   "source": []
  }
 ],
 "metadata": {
  "kernelspec": {
   "display_name": "Python 3",
   "language": "python",
   "name": "python3"
  },
  "language_info": {
   "codemirror_mode": {
    "name": "ipython",
    "version": 3
   },
   "file_extension": ".py",
   "mimetype": "text/x-python",
   "name": "python",
   "nbconvert_exporter": "python",
   "pygments_lexer": "ipython3",
   "version": "3.7.3"
  },
  "pycharm": {
   "stem_cell": {
    "cell_type": "raw",
    "metadata": {
     "collapsed": false
    },
    "source": []
   }
  }
 },
 "nbformat": 4,
 "nbformat_minor": 4
}
