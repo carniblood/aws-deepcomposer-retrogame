{
 "cells": [
  {
   "cell_type": "code",
   "execution_count": null,
   "metadata": {},
   "outputs": [],
   "source": [
    "%load_ext autoreload"
   ]
  },
  {
   "cell_type": "code",
   "execution_count": null,
   "metadata": {
    "pycharm": {
     "is_executing": false,
     "name": "#%%\n"
    }
   },
   "outputs": [],
   "source": [
    "# Imports\n",
    "import os\n",
    "import glob\n",
    "import json\n",
    "import numpy as np\n",
    "import h5py\n",
    "import keras\n",
    "from enum import Enum\n",
    "from keras.models import Model\n",
    "from keras.layers import Input, Conv2D, MaxPooling2D, UpSampling2D, concatenate, BatchNormalization, Dropout\n",
    "from keras.optimizers import Adam, RMSprop\n",
    "from keras import backend as K\n",
    "from random import randrange\n",
    "import random\n",
    "import math\n",
    "import pypianoroll\n",
    "from utils.midi_utils import play_midi, plot_pianoroll, get_music_metrics, process_pianoroll, process_midi\n",
    "from constants import Constants\n",
    "from augmentation import AddAndRemoveAPercentageOfNotes\n",
    "from data_generator import PianoRollGenerator\n",
    "from utils.generate_training_plots import GenerateTrainingPlots\n",
    "from inference import Inference\n",
    "from model import OptimizerType\n",
    "from model import ArCnnModel\n",
    "\n",
    "%autoreload"
   ]
  },
  {
   "cell_type": "code",
   "execution_count": null,
   "metadata": {},
   "outputs": [],
   "source": [
    "# Load The Inference-Related Parameters\n",
    "with open('inference_parameters.json') as json_file:\n",
    "    inference_params = json.load(json_file)"
   ]
  },
  {
   "cell_type": "code",
   "execution_count": null,
   "metadata": {},
   "outputs": [],
   "source": [
    "!ls -ltr *.hdf5"
   ]
  },
  {
   "cell_type": "markdown",
   "metadata": {},
   "source": [
    "In the next code cell, replace the string in variable `checkpoint_var` with the filename, `checkpoints/foo-bar.hdf5` "
   ]
  },
  {
   "cell_type": "code",
   "execution_count": null,
   "metadata": {},
   "outputs": [],
   "source": [
    "# Create An Inference Object\n",
    "inference_obj = Inference()\n",
    "# Load The Checkpoint\n",
    "checkpoint_var = 'best-model-new.hdf5'\n",
    "inference_obj.load_model(checkpoint_var) "
   ]
  },
  {
   "cell_type": "code",
   "execution_count": null,
   "metadata": {},
   "outputs": [],
   "source": [
    "# Generate The Composition\n",
    "output_base_name = 'new-epoch-1-'\n",
    "input_melodies = []\n",
    "input_melodies.append('merry_christmas.midi')\n",
    "input_melodies.append('new_world.midi')\n",
    "input_melodies.append('ode_to_joy.midi')\n",
    "input_melodies.append('twinkle_twinkle.midi')\n",
    "input_melodies.append('starwars_leia.midi')\n",
    "for input_melody in input_melodies:\n",
    "    input_file = 'sample_inputs/' + input_melody\n",
    "    output_file = 'outputs/' + output_base_name + input_melody\n",
    "    inference_obj.generate_composition(input_file, output_file, inference_params)"
   ]
  },
  {
   "cell_type": "code",
   "execution_count": null,
   "metadata": {},
   "outputs": [],
   "source": []
  }
 ],
 "metadata": {
  "kernelspec": {
   "display_name": "Python 3",
   "language": "python",
   "name": "python3"
  },
  "language_info": {
   "codemirror_mode": {
    "name": "ipython",
    "version": 3
   },
   "file_extension": ".py",
   "mimetype": "text/x-python",
   "name": "python",
   "nbconvert_exporter": "python",
   "pygments_lexer": "ipython3",
   "version": "3.7.3"
  },
  "pycharm": {
   "stem_cell": {
    "cell_type": "raw",
    "metadata": {
     "collapsed": false
    },
    "source": []
   }
  }
 },
 "nbformat": 4,
 "nbformat_minor": 4
}
